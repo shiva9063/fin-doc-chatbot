{
 "cells": [
  {
   "cell_type": "code",
   "execution_count": 1,
   "id": "04d9b53a",
   "metadata": {},
   "outputs": [],
   "source": [
    "import warnings\n",
    "warnings.filterwarnings('ignore')"
   ]
  },
  {
   "cell_type": "code",
   "execution_count": 2,
   "id": "4f093fa7-a369-40df-ac76-c21d083e0e15",
   "metadata": {},
   "outputs": [],
   "source": [
    "from PyPDF2 import PdfReader\n",
    "import pandas as pd\n",
    "\n",
    "# PDF Reader\n",
    "def extract_text_from_pdf(pdf_path):\n",
    "    reader = PdfReader(pdf_path)\n",
    "    text = \"\"\n",
    "    for page in reader.pages:\n",
    "        text += page.extract_text() + \"\\n\"\n",
    "    return text\n",
    "\n",
    "# Excel Reader\n",
    "def extract_text_from_excel(excel_path):\n",
    "    df = pd.read_excel(excel_path, sheet_name=None)  # all sheets\n",
    "    text = \"\"\n",
    "    for sheet, data in df.items():\n",
    "        text += f\"\\n--- Sheet: {sheet} ---\\n\"\n",
    "        text += data.to_string(index=False)\n",
    "    return text\n",
    "text=extract_text_from_pdf(\"financial_report1.pdf\")\n"
   ]
  },
  {
   "cell_type": "code",
   "execution_count": 3,
   "id": "9c30ba13-7c9d-4080-b7e5-6143319d207c",
   "metadata": {},
   "outputs": [
    {
     "name": "stdout",
     "output_type": "stream",
     "text": [
      "❌ Error communicating with Ollama: model \"WiroAI/WiroAI-Finance-Qwen-1.5B\" not found, try pulling it first (status code: 404)\n"
     ]
    }
   ],
   "source": [
    "import ollama\n",
    "\n",
    "# Load model\n",
    "model_id = \"WiroAI/WiroAI-Finance-Qwen-1.5B\"\n",
    "\n",
    "# Example extracted document text (replace this with text from PDF/Excel extraction)\n",
    "text = \"\"\"\n",
    "Revenue: $1,500,000\n",
    "Expenses: $1,200,000\n",
    "Net Profit: $300,000\n",
    "\"\"\"\n",
    "\n",
    "# -------- Ask a Query --------\n",
    "# Option 1: Directly set the query\n",
    "prompt = \"What is the net profit?\"\n",
    "\n",
    "# Option 2: Uncomment below to type interactively in notebook\n",
    "# prompt = input(\"Type your question: \")\n",
    "\n",
    "# Build context\n",
    "context_prompt = (\n",
    "    \"You are a financial assistant. Use the following document content \"\n",
    "    \"to answer clearly and concisely.\\n\\n\"\n",
    "    f\"Document Content:\\n{text}\\n\\n\"\n",
    "    f\"User Question: {prompt}\"\n",
    ")\n",
    "\n",
    "# Query Ollama\n",
    "try:\n",
    "    response = ollama.chat(\n",
    "        model=model_id,\n",
    "        messages=[{\"role\": \"user\", \"content\": context_prompt}],\n",
    "        stream=False\n",
    "    )\n",
    "\n",
    "    # Extract clean answer\n",
    "    if \"message\" in response and \"content\" in response[\"message\"]:\n",
    "        answer = response[\"message\"][\"content\"]\n",
    "    else:\n",
    "        answer = \"⚠️ No response from model.\"\n",
    "\n",
    "    # Display in Jupyter\n",
    "    from IPython.display import Markdown\n",
    "    display(Markdown(f\"**Answer:** {answer}\"))\n",
    "\n",
    "except Exception as e:\n",
    "    print(\"❌ Error communicating with Ollama:\", e)\n"
   ]
  },
  {
   "cell_type": "code",
   "execution_count": null,
   "id": "a607bdd6-82ed-43a8-9a28-19a26e83148a",
   "metadata": {},
   "outputs": [],
   "source": []
  }
 ],
 "metadata": {
  "kernelspec": {
   "display_name": "finvenv",
   "language": "python",
   "name": "python3"
  },
  "language_info": {
   "codemirror_mode": {
    "name": "ipython",
    "version": 3
   },
   "file_extension": ".py",
   "mimetype": "text/x-python",
   "name": "python",
   "nbconvert_exporter": "python",
   "pygments_lexer": "ipython3",
   "version": "3.12.7"
  },
  "widgets": {
   "application/vnd.jupyter.widget-state+json": {
    "state": {},
    "version_major": 2,
    "version_minor": 0
   }
  }
 },
 "nbformat": 4,
 "nbformat_minor": 5
}
